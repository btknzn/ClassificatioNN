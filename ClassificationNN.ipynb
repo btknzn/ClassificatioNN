{
 "cells": [
  {
   "cell_type": "markdown",
   "metadata": {},
   "source": [
    "# Classifying movie reviews\n",
    "\n",
    "In this example, we will learn to classify movie reviews into \"positive\" reviews and \"negative\" reviews, just based on the text content of the reviews. This is a \"binary classification example\". \n",
    "We will use the ML package called Keras. Please install this package in your working environment! \n",
    "\n",
    "## The Dataset\n",
    "\n",
    "The IMDB dataset: a set of 50,000 reviews from the Internet Movie Database. They are split into 25,000 reviews for training and 25,000 reviews for testing, each set consisting in 50% negative and 50% positive reviews.\n",
    "\n",
    "The IMDB dataset comes pre-built in Keras. It has already been preprocessed: the reviews (sequences of words) have been turned into sequences of integers, where each integer stands for a specific word in a dictionary.\n",
    "\n",
    "The following code will load the dataset (when you run it for the first time, about 80MB of data will be downloaded to your machine):"
   ]
  },
  {
   "cell_type": "markdown",
   "metadata": {},
   "source": [
    "We load the dataset:"
   ]
  },
  {
   "cell_type": "code",
   "execution_count": 9,
   "metadata": {
    "scrolled": true
   },
   "outputs": [
    {
     "name": "stdout",
     "output_type": "stream",
     "text": [
      "Requirement already satisfied: keras in /Users/batukaanozen/opt/anaconda3/lib/python3.8/site-packages (2.4.3)\n",
      "Requirement already satisfied: numpy>=1.9.1 in /Users/batukaanozen/opt/anaconda3/lib/python3.8/site-packages (from keras) (1.19.2)\n",
      "Requirement already satisfied: h5py in /Users/batukaanozen/opt/anaconda3/lib/python3.8/site-packages (from keras) (2.10.0)\n",
      "Requirement already satisfied: pyyaml in /Users/batukaanozen/opt/anaconda3/lib/python3.8/site-packages (from keras) (5.3.1)\n",
      "Requirement already satisfied: scipy>=0.14 in /Users/batukaanozen/opt/anaconda3/lib/python3.8/site-packages (from keras) (1.5.2)\n",
      "Requirement already satisfied: six in /Users/batukaanozen/opt/anaconda3/lib/python3.8/site-packages (from h5py->keras) (1.15.0)\n",
      "Note: you may need to restart the kernel to use updated packages.\n"
     ]
    }
   ],
   "source": [
    "pip install keras\n"
   ]
  },
  {
   "cell_type": "code",
   "execution_count": 10,
   "metadata": {},
   "outputs": [
    {
     "name": "stdout",
     "output_type": "stream",
     "text": [
      "Collecting tensorflow\n",
      "  Using cached tensorflow-2.4.1-cp38-cp38-macosx_10_11_x86_64.whl (173.9 MB)\n",
      "Collecting keras-preprocessing~=1.1.2\n",
      "  Using cached Keras_Preprocessing-1.1.2-py2.py3-none-any.whl (42 kB)\n",
      "Requirement already satisfied: protobuf>=3.9.2 in /Users/batukaanozen/opt/anaconda3/lib/python3.8/site-packages (from tensorflow) (3.14.0)\n",
      "Collecting google-pasta~=0.2\n",
      "  Using cached google_pasta-0.2.0-py3-none-any.whl (57 kB)\n",
      "Requirement already satisfied: numpy~=1.19.2 in /Users/batukaanozen/opt/anaconda3/lib/python3.8/site-packages (from tensorflow) (1.19.2)\n",
      "Collecting opt-einsum~=3.3.0\n",
      "  Using cached opt_einsum-3.3.0-py3-none-any.whl (65 kB)\n",
      "Collecting termcolor~=1.1.0\n",
      "  Using cached termcolor-1.1.0-py3-none-any.whl\n",
      "Requirement already satisfied: typing-extensions~=3.7.4 in /Users/batukaanozen/opt/anaconda3/lib/python3.8/site-packages (from tensorflow) (3.7.4.3)\n",
      "Collecting wrapt~=1.12.1\n",
      "  Using cached wrapt-1.12.1-cp38-cp38-macosx_10_9_x86_64.whl\n",
      "Collecting flatbuffers~=1.12.0\n",
      "  Using cached flatbuffers-1.12-py2.py3-none-any.whl (15 kB)\n",
      "Collecting tensorflow-estimator<2.5.0,>=2.4.0\n",
      "  Using cached tensorflow_estimator-2.4.0-py2.py3-none-any.whl (462 kB)\n",
      "Collecting tensorboard~=2.4\n",
      "  Using cached tensorboard-2.4.1-py3-none-any.whl (10.6 MB)\n",
      "Collecting grpcio~=1.32.0\n",
      "  Using cached grpcio-1.32.0-cp38-cp38-macosx_10_9_x86_64.whl (3.3 MB)\n",
      "Requirement already satisfied: six~=1.15.0 in /Users/batukaanozen/opt/anaconda3/lib/python3.8/site-packages (from tensorflow) (1.15.0)\n",
      "Collecting astunparse~=1.6.3\n",
      "  Using cached astunparse-1.6.3-py2.py3-none-any.whl (12 kB)\n",
      "Collecting gast==0.3.3\n",
      "  Using cached gast-0.3.3-py2.py3-none-any.whl (9.7 kB)\n",
      "Requirement already satisfied: h5py~=2.10.0 in /Users/batukaanozen/opt/anaconda3/lib/python3.8/site-packages (from tensorflow) (2.10.0)\n",
      "Collecting absl-py~=0.10\n",
      "  Using cached absl_py-0.11.0-py3-none-any.whl (127 kB)\n",
      "Requirement already satisfied: wheel~=0.35 in /Users/batukaanozen/opt/anaconda3/lib/python3.8/site-packages (from tensorflow) (0.35.1)\n",
      "Requirement already satisfied: werkzeug>=0.11.15 in /Users/batukaanozen/opt/anaconda3/lib/python3.8/site-packages (from tensorboard~=2.4->tensorflow) (1.0.1)\n",
      "Collecting markdown>=2.6.8\n",
      "  Using cached Markdown-3.3.3-py3-none-any.whl (96 kB)\n",
      "Requirement already satisfied: setuptools>=41.0.0 in /Users/batukaanozen/opt/anaconda3/lib/python3.8/site-packages (from tensorboard~=2.4->tensorflow) (50.3.1.post20201107)\n",
      "Requirement already satisfied: google-auth<2,>=1.6.3 in /Users/batukaanozen/opt/anaconda3/lib/python3.8/site-packages (from tensorboard~=2.4->tensorflow) (1.24.0)\n",
      "Collecting google-auth-oauthlib<0.5,>=0.4.1\n",
      "  Using cached google_auth_oauthlib-0.4.2-py2.py3-none-any.whl (18 kB)\n",
      "Collecting tensorboard-plugin-wit>=1.6.0\n",
      "  Using cached tensorboard_plugin_wit-1.8.0-py3-none-any.whl (781 kB)\n",
      "Requirement already satisfied: requests<3,>=2.21.0 in /Users/batukaanozen/opt/anaconda3/lib/python3.8/site-packages (from tensorboard~=2.4->tensorflow) (2.24.0)\n",
      "Requirement already satisfied: rsa<5,>=3.1.4 in /Users/batukaanozen/opt/anaconda3/lib/python3.8/site-packages (from google-auth<2,>=1.6.3->tensorboard~=2.4->tensorflow) (4.7)\n",
      "Requirement already satisfied: cachetools<5.0,>=2.0.0 in /Users/batukaanozen/opt/anaconda3/lib/python3.8/site-packages (from google-auth<2,>=1.6.3->tensorboard~=2.4->tensorflow) (4.2.1)\n",
      "Requirement already satisfied: pyasn1-modules>=0.2.1 in /Users/batukaanozen/opt/anaconda3/lib/python3.8/site-packages (from google-auth<2,>=1.6.3->tensorboard~=2.4->tensorflow) (0.2.8)\n",
      "Collecting requests-oauthlib>=0.7.0\n",
      "  Using cached requests_oauthlib-1.3.0-py2.py3-none-any.whl (23 kB)\n",
      "Requirement already satisfied: pyasn1<0.5.0,>=0.4.6 in /Users/batukaanozen/opt/anaconda3/lib/python3.8/site-packages (from pyasn1-modules>=0.2.1->google-auth<2,>=1.6.3->tensorboard~=2.4->tensorflow) (0.4.8)\n",
      "Requirement already satisfied: chardet<4,>=3.0.2 in /Users/batukaanozen/opt/anaconda3/lib/python3.8/site-packages (from requests<3,>=2.21.0->tensorboard~=2.4->tensorflow) (3.0.4)\n",
      "Requirement already satisfied: idna<3,>=2.5 in /Users/batukaanozen/opt/anaconda3/lib/python3.8/site-packages (from requests<3,>=2.21.0->tensorboard~=2.4->tensorflow) (2.10)\n",
      "Requirement already satisfied: certifi>=2017.4.17 in /Users/batukaanozen/opt/anaconda3/lib/python3.8/site-packages (from requests<3,>=2.21.0->tensorboard~=2.4->tensorflow) (2020.6.20)\n",
      "Requirement already satisfied: urllib3!=1.25.0,!=1.25.1,<1.26,>=1.21.1 in /Users/batukaanozen/opt/anaconda3/lib/python3.8/site-packages (from requests<3,>=2.21.0->tensorboard~=2.4->tensorflow) (1.25.11)\n",
      "Collecting oauthlib>=3.0.0\n",
      "  Using cached oauthlib-3.1.0-py2.py3-none-any.whl (147 kB)\n",
      "Installing collected packages: oauthlib, requests-oauthlib, tensorboard-plugin-wit, markdown, grpcio, google-auth-oauthlib, absl-py, wrapt, termcolor, tensorflow-estimator, tensorboard, opt-einsum, keras-preprocessing, google-pasta, gast, flatbuffers, astunparse, tensorflow\n",
      "  Attempting uninstall: wrapt\n",
      "    Found existing installation: wrapt 1.11.2\n",
      "    Uninstalling wrapt-1.11.2:\n",
      "      Successfully uninstalled wrapt-1.11.2\n",
      "Successfully installed absl-py-0.11.0 astunparse-1.6.3 flatbuffers-1.12 gast-0.3.3 google-auth-oauthlib-0.4.2 google-pasta-0.2.0 grpcio-1.32.0 keras-preprocessing-1.1.2 markdown-3.3.3 oauthlib-3.1.0 opt-einsum-3.3.0 requests-oauthlib-1.3.0 tensorboard-2.4.1 tensorboard-plugin-wit-1.8.0 tensorflow-2.4.1 tensorflow-estimator-2.4.0 termcolor-1.1.0 wrapt-1.12.1\n",
      "Note: you may need to restart the kernel to use updated packages.\n"
     ]
    }
   ],
   "source": [
    "pip install tensorflow"
   ]
  },
  {
   "cell_type": "code",
   "execution_count": 11,
   "metadata": {},
   "outputs": [
    {
     "name": "stdout",
     "output_type": "stream",
     "text": [
      "Downloading data from https://storage.googleapis.com/tensorflow/tf-keras-datasets/imdb.npz\n",
      "17465344/17464789 [==============================] - 6s 0us/step\n"
     ]
    },
    {
     "name": "stderr",
     "output_type": "stream",
     "text": [
      "<__array_function__ internals>:5: VisibleDeprecationWarning: Creating an ndarray from ragged nested sequences (which is a list-or-tuple of lists-or-tuples-or ndarrays with different lengths or shapes) is deprecated. If you meant to do this, you must specify 'dtype=object' when creating the ndarray\n",
      "/Users/batukaanozen/opt/anaconda3/lib/python3.8/site-packages/tensorflow/python/keras/datasets/imdb.py:159: VisibleDeprecationWarning: Creating an ndarray from ragged nested sequences (which is a list-or-tuple of lists-or-tuples-or ndarrays with different lengths or shapes) is deprecated. If you meant to do this, you must specify 'dtype=object' when creating the ndarray\n",
      "  x_train, y_train = np.array(xs[:idx]), np.array(labels[:idx])\n",
      "/Users/batukaanozen/opt/anaconda3/lib/python3.8/site-packages/tensorflow/python/keras/datasets/imdb.py:160: VisibleDeprecationWarning: Creating an ndarray from ragged nested sequences (which is a list-or-tuple of lists-or-tuples-or ndarrays with different lengths or shapes) is deprecated. If you meant to do this, you must specify 'dtype=object' when creating the ndarray\n",
      "  x_test, y_test = np.array(xs[idx:]), np.array(labels[idx:])\n"
     ]
    }
   ],
   "source": [
    "from keras.datasets import imdb\n",
    "\n",
    "(train_data, train_labels), (test_data, test_labels) = imdb.load_data(num_words=10000)"
   ]
  },
  {
   "cell_type": "code",
   "execution_count": 16,
   "metadata": {
    "pycharm": {
     "name": "#%%\n"
    }
   },
   "outputs": [
    {
     "name": "stdout",
     "output_type": "stream",
     "text": [
      "(25000,)\n"
     ]
    }
   ],
   "source": [
    "\n",
    "print(test_labels.shape)\n"
   ]
  },
  {
   "cell_type": "code",
   "execution_count": 13,
   "metadata": {},
   "outputs": [
    {
     "name": "stdout",
     "output_type": "stream",
     "text": [
      "(25000,)\n"
     ]
    }
   ],
   "source": [
    "print(train_data.shape)"
   ]
  },
  {
   "cell_type": "code",
   "execution_count": 14,
   "metadata": {},
   "outputs": [
    {
     "name": "stdout",
     "output_type": "stream",
     "text": [
      "(25000,)\n"
     ]
    }
   ],
   "source": [
    "print(train_labels.shape)"
   ]
  },
  {
   "cell_type": "code",
   "execution_count": 15,
   "metadata": {},
   "outputs": [
    {
     "name": "stdout",
     "output_type": "stream",
     "text": [
      "(25000,)\n"
     ]
    }
   ],
   "source": [
    "print(test_data.shape)"
   ]
  },
  {
   "cell_type": "markdown",
   "metadata": {},
   "source": [
    "## Prepare the Data\n",
    "\n",
    "We cannot feed lists of integers into a neural network. We have to turn lists into tensors.\n",
    "\n",
    "We could pad our lists so that they all have the same length, and turn them into an integer tensor of shape (samples, word_indices), then use as first layer in our network a layer capable of handling such integer tensors (the Embedding layer, which we will cover in detail later).\n",
    "We could one-hot-encode our lists to turn them into vectors of 0s and 1s. Concretely, this would mean for instance turning the sequence [3, 5] into a 10,000-dimensional vector that would be all-zeros except for indices 3 and 5, which would be ones. Then we could use as first layer in our network a Dense layer, capable of handling floating point vector data.\n",
    "We will go with the latter solution. Let's vectorize our data, which we will do manually for maximum clarity:"
   ]
  },
  {
   "cell_type": "code",
   "execution_count": 17,
   "metadata": {},
   "outputs": [],
   "source": [
    "import numpy as np\n",
    "\n",
    "def vectorize_sequences(sequences, dimension=10000):\n",
    "    # Create an all-zero matrix of shape (len(sequences), dimension)\n",
    "    results = np.zeros((len(sequences), dimension))\n",
    "    for i, sequence in enumerate(sequences):\n",
    "        results[i, sequence] = 1.  # set specific indices of results[i] to 1s\n",
    "    return results\n",
    "\n",
    "# Our vectorized training data\n",
    "x_train = vectorize_sequences(train_data)\n",
    "# Our vectorized test data\n",
    "x_test = vectorize_sequences(test_data)"
   ]
  },
  {
   "cell_type": "markdown",
   "metadata": {},
   "source": [
    "**Check one sample:**"
   ]
  },
  {
   "cell_type": "code",
   "execution_count": 23,
   "metadata": {},
   "outputs": [
    {
     "data": {
      "text/plain": [
       "10000"
      ]
     },
     "execution_count": 23,
     "metadata": {},
     "output_type": "execute_result"
    }
   ],
   "source": [
    "x_train.shape[1]"
   ]
  },
  {
   "cell_type": "code",
   "execution_count": 18,
   "metadata": {},
   "outputs": [],
   "source": [
    "# Our vectorized labels\n",
    "y_train = np.asarray(train_labels).astype('float32')\n",
    "y_test = np.asarray(test_labels).astype('float32')"
   ]
  },
  {
   "cell_type": "markdown",
   "metadata": {},
   "source": [
    "## Building the Network"
   ]
  },
  {
   "cell_type": "markdown",
   "metadata": {},
   "source": [
    "The input data is simply vectors, and the labels are scalars (1 and 0): this is the easiest setup you will ever encounter. \n",
    "\n",
    "**Key questions**: How many layers do we need? How many hidden units for each layer? \n",
    "We will build a simple stack of fully-connected (Dense) layers. The network should have the following structure:\n",
    "- Dense layer with 16 hidden units and ReLU activation function;\n",
    "- Dense layer with 16 hidden units and ReLU activation function;\n",
    "- Dense layer output with sigmoid activation function;\n",
    "\n",
    "**Remember**: For the fully connected layer, it holds: output = relu(dot(W, input) + b), with W weight matrix and b bias.\n",
    "\n",
    "**Remember**: The sigmoid function will give you a score between 0 and 1, which tells you \"how likely the sample is to have \"1\", that means the review to be \"positive\"."
   ]
  },
  {
   "cell_type": "markdown",
   "metadata": {},
   "source": [
    "**Import models and layers from Keras:**"
   ]
  },
  {
   "cell_type": "code",
   "execution_count": 19,
   "metadata": {},
   "outputs": [],
   "source": [
    "from keras import models\n",
    "from keras import layers"
   ]
  },
  {
   "cell_type": "code",
   "execution_count": null,
   "metadata": {},
   "outputs": [],
   "source": []
  },
  {
   "cell_type": "markdown",
   "metadata": {},
   "source": [
    "**Create the network model as described above:**"
   ]
  },
  {
   "cell_type": "code",
   "execution_count": 24,
   "metadata": {},
   "outputs": [],
   "source": [
    "model = models.Sequential()\n",
    "model.add(layers.Dense(16, activation='relu', input_shape=(x_train.shape[1],)))\n",
    "model.add(layers.Dense(16, activation=\"relu\"))\n",
    "model.add(layers.Dense(1, activation=\"sigmoid\"))"
   ]
  },
  {
   "cell_type": "markdown",
   "metadata": {},
   "source": [
    "**Configure the model with an  optimizer and  a loss function. Check Keras documentation and try to understand which one suits better for your problem. Use `accuracy` as metrics:**"
   ]
  },
  {
   "cell_type": "code",
   "execution_count": 25,
   "metadata": {},
   "outputs": [],
   "source": [
    "model.compile(optimizer='rmsprop',\n",
    "              loss='binary_crossentropy',\n",
    "              metrics=['accuracy'])"
   ]
  },
  {
   "cell_type": "markdown",
   "metadata": {},
   "source": [
    "**Do the same as in the previous cell but pass an optimizer class instance as the optimizer argument. Check Keras documentation for more insights.**"
   ]
  },
  {
   "cell_type": "code",
   "execution_count": 26,
   "metadata": {},
   "outputs": [],
   "source": [
    "from keras import optimizers\n",
    "\n",
    "model.compile(optimizer=optimizers.RMSprop(lr=0.001),\n",
    "              loss='binary_crossentropy',\n",
    "              metrics=['accuracy'])"
   ]
  },
  {
   "cell_type": "markdown",
   "metadata": {},
   "source": [
    "**Do the same as in the previous cell, but pass function objects as the loss or metrics arguments.**"
   ]
  },
  {
   "cell_type": "code",
   "execution_count": 27,
   "metadata": {},
   "outputs": [],
   "source": [
    "from keras import losses\n",
    "from keras import metrics\n",
    "\n",
    "model.compile(optimizer=optimizers.RMSprop(lr=0.001),\n",
    "              loss=losses.binary_crossentropy,\n",
    "              metrics=[metrics.binary_accuracy])"
   ]
  },
  {
   "cell_type": "markdown",
   "metadata": {},
   "source": [
    "## Validating the approach"
   ]
  },
  {
   "cell_type": "markdown",
   "metadata": {},
   "source": [
    "**Create the Validation set of 10,000 samples and the Training one, consequentily.**"
   ]
  },
  {
   "cell_type": "code",
   "execution_count": 28,
   "metadata": {},
   "outputs": [],
   "source": [
    "x_val = x_train[:10000]\n",
    "partial_x_train = x_train[10000:]\n",
    "\n",
    "y_val = y_train[:10000]\n",
    "partial_y_train = y_train[10000:]"
   ]
  },
  {
   "cell_type": "markdown",
   "metadata": {},
   "source": [
    "**Train the model for 20 epochs in mini-batches of 512 samples. Use the Validation set you have just created. Check Keras documentation for more info.**"
   ]
  },
  {
   "cell_type": "code",
   "execution_count": 30,
   "metadata": {},
   "outputs": [
    {
     "name": "stdout",
     "output_type": "stream",
     "text": [
      "Epoch 1/20\n",
      "30/30 [==============================] - 2s 51ms/step - loss: 0.5872 - binary_accuracy: 0.7044 - val_loss: 0.3915 - val_binary_accuracy: 0.8623\n",
      "Epoch 2/20\n",
      "30/30 [==============================] - 0s 12ms/step - loss: 0.3287 - binary_accuracy: 0.8978 - val_loss: 0.3050 - val_binary_accuracy: 0.8878\n",
      "Epoch 3/20\n",
      "30/30 [==============================] - 0s 12ms/step - loss: 0.2287 - binary_accuracy: 0.9294 - val_loss: 0.2821 - val_binary_accuracy: 0.8882\n",
      "Epoch 4/20\n",
      "30/30 [==============================] - 0s 12ms/step - loss: 0.1749 - binary_accuracy: 0.9451 - val_loss: 0.2730 - val_binary_accuracy: 0.8903\n",
      "Epoch 5/20\n",
      "30/30 [==============================] - 0s 13ms/step - loss: 0.1447 - binary_accuracy: 0.9537 - val_loss: 0.2852 - val_binary_accuracy: 0.8884\n",
      "Epoch 6/20\n",
      "30/30 [==============================] - 0s 13ms/step - loss: 0.1159 - binary_accuracy: 0.9655 - val_loss: 0.3076 - val_binary_accuracy: 0.8839\n",
      "Epoch 7/20\n",
      "30/30 [==============================] - 0s 13ms/step - loss: 0.0994 - binary_accuracy: 0.9715 - val_loss: 0.3347 - val_binary_accuracy: 0.8779\n",
      "Epoch 8/20\n",
      "30/30 [==============================] - 0s 12ms/step - loss: 0.0810 - binary_accuracy: 0.9776 - val_loss: 0.3283 - val_binary_accuracy: 0.8850\n",
      "Epoch 9/20\n",
      "30/30 [==============================] - 0s 13ms/step - loss: 0.0646 - binary_accuracy: 0.9840 - val_loss: 0.3504 - val_binary_accuracy: 0.8810\n",
      "Epoch 10/20\n",
      "30/30 [==============================] - 0s 12ms/step - loss: 0.0525 - binary_accuracy: 0.9869 - val_loss: 0.3749 - val_binary_accuracy: 0.8793\n",
      "Epoch 11/20\n",
      "30/30 [==============================] - 0s 13ms/step - loss: 0.0446 - binary_accuracy: 0.9906 - val_loss: 0.4128 - val_binary_accuracy: 0.8762\n",
      "Epoch 12/20\n",
      "30/30 [==============================] - 0s 13ms/step - loss: 0.0368 - binary_accuracy: 0.9931 - val_loss: 0.4520 - val_binary_accuracy: 0.8676\n",
      "Epoch 13/20\n",
      "30/30 [==============================] - 0s 13ms/step - loss: 0.0298 - binary_accuracy: 0.9953 - val_loss: 0.4779 - val_binary_accuracy: 0.8659\n",
      "Epoch 14/20\n",
      "30/30 [==============================] - 0s 12ms/step - loss: 0.0238 - binary_accuracy: 0.9963 - val_loss: 0.4887 - val_binary_accuracy: 0.8740\n",
      "Epoch 15/20\n",
      "30/30 [==============================] - 0s 13ms/step - loss: 0.0175 - binary_accuracy: 0.9975 - val_loss: 0.5490 - val_binary_accuracy: 0.8637\n",
      "Epoch 16/20\n",
      "30/30 [==============================] - 0s 13ms/step - loss: 0.0166 - binary_accuracy: 0.9975 - val_loss: 0.5671 - val_binary_accuracy: 0.8650\n",
      "Epoch 17/20\n",
      "30/30 [==============================] - 0s 13ms/step - loss: 0.0126 - binary_accuracy: 0.9987 - val_loss: 0.5891 - val_binary_accuracy: 0.8681\n",
      "Epoch 18/20\n",
      "30/30 [==============================] - 0s 13ms/step - loss: 0.0093 - binary_accuracy: 0.9994 - val_loss: 0.6222 - val_binary_accuracy: 0.8695\n",
      "Epoch 19/20\n",
      "30/30 [==============================] - 0s 13ms/step - loss: 0.0073 - binary_accuracy: 0.9993 - val_loss: 0.6558 - val_binary_accuracy: 0.8665\n",
      "Epoch 20/20\n",
      "30/30 [==============================] - 0s 12ms/step - loss: 0.0050 - binary_accuracy: 1.0000 - val_loss: 0.7106 - val_binary_accuracy: 0.8640\n"
     ]
    }
   ],
   "source": [
    "history = model.fit(partial_x_train,\n",
    "                    partial_y_train,\n",
    "                    epochs = 20,\n",
    "                    batch_size = 512,\n",
    "                    validation_data=(x_val, y_val))\n"
   ]
  },
  {
   "cell_type": "markdown",
   "metadata": {},
   "source": [
    "**Check the `.history` of the result of your fit and print it to see in which format it is and how it is possible to access to the values.**"
   ]
  },
  {
   "cell_type": "code",
   "execution_count": 31,
   "metadata": {},
   "outputs": [
    {
     "data": {
      "text/plain": [
       "dict_keys(['loss', 'binary_accuracy', 'val_loss', 'val_binary_accuracy'])"
      ]
     },
     "execution_count": 31,
     "metadata": {},
     "output_type": "execute_result"
    }
   ],
   "source": [
    "history_dict = history.history\n",
    "history_dict.keys()\n",
    "\n"
   ]
  },
  {
   "cell_type": "markdown",
   "metadata": {},
   "source": [
    "**Complete the #TO DO to obtain the plot of the training and validation accuracy.**"
   ]
  },
  {
   "cell_type": "code",
   "execution_count": 37,
   "metadata": {},
   "outputs": [
    {
     "data": {
      "image/png": "[encoded data removed]",
      "text/plain": [
       "<Figure size 432x288 with 1 Axes>"
      ]
     },
     "metadata": {
      "needs_background": "light"
     },
     "output_type": "display_data"
    }
   ],
   "source": [
    "import matplotlib.pyplot as plt\n",
    "\n",
    "acc = history.history['binary_accuracy'] #TO DO: take from the history dictionary of the model the training accuracy\n",
    "val_acc = history.history['val_binary_accuracy'] #TO DO: take from the history dictionary of the model the validation accuracy\n",
    "loss = history.history['loss'] #TO DO: take from the history dictionary of the model the training loss\n",
    "val_loss = history.history['val_loss'] #TO DO: take from the history dictionary of the model the validation loss \n",
    "\n",
    "epochs = range(1, len(acc) + 1)\n",
    "\n",
    "# Plot the Loss\n",
    "\n",
    "# \"bo\" is for \"blue dot\"\n",
    "plt.plot(epochs, loss, 'bo', label='Training loss') #TO DO: use the training loss\n",
    "# b is for \"solid blue line\"\n",
    "plt.plot(epochs, val_loss, 'b', label='Validation loss') #TO DO: use validation loss\n",
    "plt.title('Training and validation loss')\n",
    "plt.xlabel('Epochs')\n",
    "plt.ylabel('Loss')\n",
    "plt.legend()\n",
    "\n",
    "plt.show()"
   ]
  },
  {
   "cell_type": "code",
   "execution_count": 41,
   "metadata": {},
   "outputs": [
    {
     "data": {
      "image/png": "[encoded data removed]",
      "text/plain": [
       "<Figure size 432x288 with 1 Axes>"
      ]
     },
     "metadata": {
      "needs_background": "light"
     },
     "output_type": "display_data"
    }
   ],
   "source": [
    "import matplotlib.pyplot as plt\n",
    "\n",
    "acc = history.history['binary_accuracy'] #TO DO: take from the history dictionary of the model the training accuracy\n",
    "val_acc = history.history['val_binary_accuracy'] #TO DO: take from the history dictionary of the model the validation accuracy\n",
    "loss = history.history['loss'] #TO DO: take from the history dictionary of the model the training loss\n",
    "val_loss = history.history['val_loss'] #TO DO: take from the history dictionary of the model the validation loss \n",
    "\n",
    "epochs = range(1, len(acc) + 1)\n",
    "\n",
    "# Plot the Loss\n",
    "\n",
    "# \"bo\" is for \"blue dot\"\n",
    "plt.plot(epochs, loss, 'bo', label='Training loss') #TO DO: use the training loss\n",
    "# b is for \"solid blue line\"\n",
    "plt.plot(epochs, val_loss, 'b', label='Validation loss') #TO DO: use validation loss\n",
    "plt.title('Training and validation loss')\n",
    "plt.xlabel('Epochs')\n",
    "plt.ylabel('Loss')\n",
    "plt.legend()\n",
    "\n",
    "plt.show()"
   ]
  },
  {
   "cell_type": "markdown",
   "metadata": {},
   "source": [
    "**What can you conclude from these results? Try to analyse and understand them:**"
   ]
  },
  {
   "cell_type": "markdown",
   "metadata": {},
   "source": []
  },
  {
   "cell_type": "markdown",
   "metadata": {},
   "source": [
    "Let's train a new network from scratch for four epochs, then evaluate it on our test data:"
   ]
  },
  {
   "cell_type": "markdown",
   "metadata": {},
   "source": [
    "** Train a new network from scratch for 4 epochs and evaluate it on the test data. **"
   ]
  },
  {
   "cell_type": "code",
   "execution_count": 43,
   "metadata": {},
   "outputs": [
    {
     "name": "stdout",
     "output_type": "stream",
     "text": [
      "Epoch 1/4\n",
      "49/49 [==============================] - 1s 8ms/step - loss: 0.5508 - accuracy: 0.7508\n",
      "Epoch 2/4\n",
      "49/49 [==============================] - 0s 8ms/step - loss: 0.2796 - accuracy: 0.9078\n",
      "Epoch 3/4\n",
      "49/49 [==============================] - 0s 8ms/step - loss: 0.1986 - accuracy: 0.9307\n",
      "Epoch 4/4\n",
      "49/49 [==============================] - 0s 8ms/step - loss: 0.1619 - accuracy: 0.9462\n",
      "782/782 [==============================] - 1s 1ms/step - loss: 0.3058 - accuracy: 0.8784\n"
     ]
    }
   ],
   "source": [
    "model = models.Sequential()\n",
    "model.add(layers.Dense(16, activation='relu', input_shape=(10000,)))\n",
    "model.add(layers.Dense(16, activation='relu'))\n",
    "model.add(layers.Dense(1, activation='sigmoid'))\n",
    "\n",
    "model.compile(optimizer='rmsprop',\n",
    "              loss='binary_crossentropy',\n",
    "              metrics=['accuracy'])\n",
    "\n",
    "model.fit(x_train, y_train, epochs=4, batch_size=512)\n",
    "results = model.evaluate(x_test, y_test)"
   ]
  },
  {
   "cell_type": "markdown",
   "metadata": {},
   "source": [
    "## Test the Network"
   ]
  },
  {
   "cell_type": "markdown",
   "metadata": {},
   "source": [
    "**Make predictions with your model:**"
   ]
  },
  {
   "cell_type": "code",
   "execution_count": 44,
   "metadata": {},
   "outputs": [
    {
     "data": {
      "text/plain": [
       "[0.30575254559516907, 0.8784400224685669]"
      ]
     },
     "execution_count": 44,
     "metadata": {},
     "output_type": "execute_result"
    }
   ],
   "source": [
    "results"
   ]
  },
  {
   "cell_type": "code",
   "execution_count": 54,
   "metadata": {},
   "outputs": [
    {
     "name": "stdout",
     "output_type": "stream",
     "text": [
      "Epoch 1/25\n",
      "49/49 [==============================] - 1s 9ms/step - loss: 0.5458 - accuracy: 0.7436\n",
      "Epoch 2/25\n",
      "49/49 [==============================] - 0s 8ms/step - loss: 0.2918 - accuracy: 0.9054\n",
      "Epoch 3/25\n",
      "49/49 [==============================] - 0s 8ms/step - loss: 0.2220 - accuracy: 0.9270\n",
      "Epoch 4/25\n",
      "49/49 [==============================] - 0s 9ms/step - loss: 0.1870 - accuracy: 0.9363\n",
      "Epoch 5/25\n",
      "49/49 [==============================] - 0s 8ms/step - loss: 0.1623 - accuracy: 0.9474\n",
      "Epoch 6/25\n",
      "49/49 [==============================] - 0s 8ms/step - loss: 0.1439 - accuracy: 0.9548\n",
      "Epoch 7/25\n",
      "49/49 [==============================] - 0s 8ms/step - loss: 0.1303 - accuracy: 0.9594\n",
      "Epoch 8/25\n",
      "49/49 [==============================] - 0s 8ms/step - loss: 0.1223 - accuracy: 0.9609\n",
      "Epoch 9/25\n",
      "49/49 [==============================] - 0s 8ms/step - loss: 0.1095 - accuracy: 0.9672\n",
      "Epoch 10/25\n",
      "49/49 [==============================] - 0s 8ms/step - loss: 0.1009 - accuracy: 0.9697\n",
      "Epoch 11/25\n",
      "49/49 [==============================] - 0s 8ms/step - loss: 0.0926 - accuracy: 0.9742\n",
      "Epoch 12/25\n",
      "49/49 [==============================] - 0s 8ms/step - loss: 0.0852 - accuracy: 0.9742\n",
      "Epoch 13/25\n",
      "49/49 [==============================] - 0s 8ms/step - loss: 0.0782 - accuracy: 0.9772\n",
      "Epoch 14/25\n",
      "49/49 [==============================] - 0s 8ms/step - loss: 0.0705 - accuracy: 0.9806\n",
      "Epoch 15/25\n",
      "49/49 [==============================] - 0s 8ms/step - loss: 0.0669 - accuracy: 0.9811\n",
      "Epoch 16/25\n",
      "49/49 [==============================] - 0s 8ms/step - loss: 0.0623 - accuracy: 0.9842\n",
      "Epoch 17/25\n",
      "49/49 [==============================] - 0s 8ms/step - loss: 0.0586 - accuracy: 0.9850\n",
      "Epoch 18/25\n",
      "49/49 [==============================] - 0s 8ms/step - loss: 0.0522 - accuracy: 0.9870\n",
      "Epoch 19/25\n",
      "49/49 [==============================] - 0s 8ms/step - loss: 0.0493 - accuracy: 0.9876\n",
      "Epoch 20/25\n",
      "49/49 [==============================] - 0s 7ms/step - loss: 0.0455 - accuracy: 0.9893\n",
      "Epoch 21/25\n",
      "49/49 [==============================] - 0s 8ms/step - loss: 0.0423 - accuracy: 0.9910\n",
      "Epoch 22/25\n",
      "49/49 [==============================] - 0s 8ms/step - loss: 0.0402 - accuracy: 0.9896\n",
      "Epoch 23/25\n",
      "49/49 [==============================] - 0s 8ms/step - loss: 0.0373 - accuracy: 0.9915\n",
      "Epoch 24/25\n",
      "49/49 [==============================] - 0s 8ms/step - loss: 0.0348 - accuracy: 0.9926\n",
      "Epoch 25/25\n",
      "49/49 [==============================] - 0s 8ms/step - loss: 0.0320 - accuracy: 0.9929\n",
      "782/782 [==============================] - 1s 1ms/step - loss: 0.6412 - accuracy: 0.8486\n"
     ]
    }
   ],
   "source": [
    "#Experiment Model with two layer\n",
    "model = models.Sequential()\n",
    "model.add(layers.Dense(16, activation='relu', input_shape=(10000,)))\n",
    "#model.add(layers.Dense(16, activation='relu'))\n",
    "model.add(layers.Dense(1, activation='sigmoid'))\n",
    "\n",
    "model.compile(optimizer='rmsprop',\n",
    "              loss='binary_crossentropy',\n",
    "              metrics=['accuracy'])\n",
    "\n",
    "model.fit(x_train, y_train, epochs=25, batch_size=512)\n",
    "results = model.evaluate(x_test, y_test)\n"
   ]
  },
  {
   "cell_type": "code",
   "execution_count": 55,
   "metadata": {},
   "outputs": [
    {
     "data": {
      "text/plain": [
       "[0.6411795020103455, 0.8485599756240845]"
      ]
     },
     "execution_count": 55,
     "metadata": {},
     "output_type": "execute_result"
    }
   ],
   "source": [
    "results"
   ]
  },
  {
   "cell_type": "code",
   "execution_count": 58,
   "metadata": {},
   "outputs": [
    {
     "name": "stdout",
     "output_type": "stream",
     "text": [
      "Epoch 1/25\n",
      "49/49 [==============================] - 1s 16ms/step - loss: 0.5124 - accuracy: 0.7526\n",
      "Epoch 2/25\n",
      "49/49 [==============================] - 1s 13ms/step - loss: 0.2388 - accuracy: 0.9110\n",
      "Epoch 3/25\n",
      "49/49 [==============================] - 1s 13ms/step - loss: 0.1758 - accuracy: 0.9337\n",
      "Epoch 4/25\n",
      "49/49 [==============================] - 1s 13ms/step - loss: 0.1386 - accuracy: 0.9496\n",
      "Epoch 5/25\n",
      "49/49 [==============================] - 1s 13ms/step - loss: 0.1063 - accuracy: 0.9615\n",
      "Epoch 6/25\n",
      "49/49 [==============================] - 1s 15ms/step - loss: 0.0789 - accuracy: 0.9728\n",
      "Epoch 7/25\n",
      "49/49 [==============================] - 1s 14ms/step - loss: 0.0579 - accuracy: 0.9809\n",
      "Epoch 8/25\n",
      "49/49 [==============================] - 1s 14ms/step - loss: 0.0395 - accuracy: 0.9890\n",
      "Epoch 9/25\n",
      "49/49 [==============================] - 1s 14ms/step - loss: 0.0247 - accuracy: 0.9932\n",
      "Epoch 10/25\n",
      "49/49 [==============================] - 1s 13ms/step - loss: 0.0223 - accuracy: 0.9936\n",
      "Epoch 11/25\n",
      "49/49 [==============================] - 1s 14ms/step - loss: 0.0188 - accuracy: 0.9945\n",
      "Epoch 12/25\n",
      "49/49 [==============================] - 1s 13ms/step - loss: 0.0127 - accuracy: 0.9967\n",
      "Epoch 13/25\n",
      "49/49 [==============================] - 1s 13ms/step - loss: 0.0059 - accuracy: 0.9989\n",
      "Epoch 14/25\n",
      "49/49 [==============================] - 1s 13ms/step - loss: 0.0020 - accuracy: 0.9999\n",
      "Epoch 15/25\n",
      "49/49 [==============================] - 1s 13ms/step - loss: 0.0074 - accuracy: 0.9983\n",
      "Epoch 16/25\n",
      "49/49 [==============================] - 1s 13ms/step - loss: 7.2306e-04 - accuracy: 1.0000\n",
      "Epoch 17/25\n",
      "49/49 [==============================] - 1s 13ms/step - loss: 0.0035 - accuracy: 0.9992\n",
      "Epoch 18/25\n",
      "49/49 [==============================] - 1s 13ms/step - loss: 3.4203e-04 - accuracy: 1.0000\n",
      "Epoch 19/25\n",
      "49/49 [==============================] - 1s 13ms/step - loss: 0.0019 - accuracy: 0.9996\n",
      "Epoch 20/25\n",
      "49/49 [==============================] - 1s 13ms/step - loss: 1.3858e-04 - accuracy: 1.0000\n",
      "Epoch 21/25\n",
      "49/49 [==============================] - 1s 13ms/step - loss: 9.4524e-05 - accuracy: 1.0000\n",
      "Epoch 22/25\n",
      "49/49 [==============================] - 1s 13ms/step - loss: 0.0121 - accuracy: 0.9980\n",
      "Epoch 23/25\n",
      "49/49 [==============================] - 1s 13ms/step - loss: 3.5595e-05 - accuracy: 1.0000\n",
      "Epoch 24/25\n",
      "49/49 [==============================] - 1s 13ms/step - loss: 3.1036e-05 - accuracy: 1.0000\n",
      "Epoch 25/25\n",
      "49/49 [==============================] - 1s 13ms/step - loss: 1.7465e-05 - accuracy: 1.0000\n",
      "782/782 [==============================] - 1s 1ms/step - loss: 3.1240 - accuracy: 0.7731\n"
     ]
    }
   ],
   "source": [
    "#Experiment Model with 3 hidden layer\n",
    "model = models.Sequential()\n",
    "model.add(layers.Dense(64, activation='relu', input_shape=(10000,)))\n",
    "model.add(layers.Dense(64, activation='relu'))\n",
    "model.add(layers.Dense(1, activation='sigmoid'))\n",
    "\n",
    "model.compile(optimizer='rmsprop',\n",
    "              loss='binary_crossentropy',\n",
    "              metrics=['accuracy'])\n",
    "\n",
    "model.fit(x_train, y_train, epochs=25, batch_size=512)\n",
    "results = model.evaluate(x_test, y_test)\n"
   ]
  },
  {
   "cell_type": "code",
   "execution_count": 59,
   "metadata": {},
   "outputs": [
    {
     "data": {
      "text/plain": [
       "[3.124030113220215, 0.7731199860572815]"
      ]
     },
     "execution_count": 59,
     "metadata": {},
     "output_type": "execute_result"
    }
   ],
   "source": [
    "results"
   ]
  },
  {
   "cell_type": "code",
   "execution_count": 62,
   "metadata": {},
   "outputs": [
    {
     "name": "stdout",
     "output_type": "stream",
     "text": [
      "Epoch 1/25\n",
      "49/49 [==============================] - 1s 14ms/step - loss: 0.5233 - accuracy: 0.7411\n",
      "Epoch 2/25\n",
      "49/49 [==============================] - 1s 14ms/step - loss: 0.2386 - accuracy: 0.9121\n",
      "Epoch 3/25\n",
      "49/49 [==============================] - 1s 19ms/step - loss: 0.1701 - accuracy: 0.9391\n",
      "Epoch 4/25\n",
      "49/49 [==============================] - 1s 16ms/step - loss: 0.1268 - accuracy: 0.9557\n",
      "Epoch 5/25\n",
      "49/49 [==============================] - 1s 15ms/step - loss: 0.1000 - accuracy: 0.9653\n",
      "Epoch 6/25\n",
      "49/49 [==============================] - 1s 14ms/step - loss: 0.0773 - accuracy: 0.9739\n",
      "Epoch 7/25\n",
      "49/49 [==============================] - 1s 13ms/step - loss: 0.0561 - accuracy: 0.9821\n",
      "Epoch 8/25\n",
      "49/49 [==============================] - 1s 13ms/step - loss: 0.0327 - accuracy: 0.9913\n",
      "Epoch 9/25\n",
      "49/49 [==============================] - 1s 14ms/step - loss: 0.0304 - accuracy: 0.9915\n",
      "Epoch 10/25\n",
      "49/49 [==============================] - 1s 14ms/step - loss: 0.0225 - accuracy: 0.9939\n",
      "Epoch 11/25\n",
      "49/49 [==============================] - 1s 13ms/step - loss: 0.0194 - accuracy: 0.9954\n",
      "Epoch 12/25\n",
      "49/49 [==============================] - 1s 15ms/step - loss: 0.0053 - accuracy: 0.9991\n",
      "Epoch 13/25\n",
      "49/49 [==============================] - 1s 13ms/step - loss: 0.0022 - accuracy: 1.0000\n",
      "Epoch 14/25\n",
      "49/49 [==============================] - 1s 14ms/step - loss: 0.0195 - accuracy: 0.9950\n",
      "Epoch 15/25\n",
      "49/49 [==============================] - 1s 15ms/step - loss: 9.0678e-04 - accuracy: 1.0000\n",
      "Epoch 16/25\n",
      "49/49 [==============================] - 1s 15ms/step - loss: 0.0126 - accuracy: 0.9969\n",
      "Epoch 17/25\n",
      "49/49 [==============================] - 1s 13ms/step - loss: 3.5881e-04 - accuracy: 1.0000\n",
      "Epoch 18/25\n",
      "49/49 [==============================] - 1s 13ms/step - loss: 0.0089 - accuracy: 0.9985\n",
      "Epoch 19/25\n",
      "49/49 [==============================] - 1s 13ms/step - loss: 1.5460e-04 - accuracy: 1.0000\n",
      "Epoch 20/25\n",
      "49/49 [==============================] - 1s 14ms/step - loss: 8.0860e-05 - accuracy: 1.0000\n",
      "Epoch 21/25\n",
      "49/49 [==============================] - 1s 14ms/step - loss: 0.0095 - accuracy: 0.9982\n",
      "Epoch 22/25\n",
      "49/49 [==============================] - 1s 13ms/step - loss: 4.6324e-05 - accuracy: 1.0000\n",
      "Epoch 23/25\n",
      "49/49 [==============================] - 1s 13ms/step - loss: 2.4874e-05 - accuracy: 1.0000\n",
      "Epoch 24/25\n",
      "49/49 [==============================] - 1s 14ms/step - loss: 0.0126 - accuracy: 0.9983\n",
      "Epoch 25/25\n",
      "49/49 [==============================] - 1s 13ms/step - loss: 1.2749e-05 - accuracy: 1.0000\n",
      "782/782 [==============================] - 1s 2ms/step - loss: 1.3679 - accuracy: 0.8564\n"
     ]
    }
   ],
   "source": [
    "\n",
    "#Experiment with loss = binary_crossentropy\n",
    "model = models.Sequential()\n",
    "model.add(layers.Dense(64, activation='relu', input_shape=(10000,)))\n",
    "model.add(layers.Dense(64, activation='relu'))\n",
    "model.add(layers.Dense(1, activation='sigmoid'))\n",
    "\n",
    "model.compile(optimizer='rmsprop',\n",
    "              loss='binary_crossentropy',\n",
    "              metrics=['accuracy'])\n",
    "\n",
    "model.fit(x_train, y_train, epochs=25, batch_size=512)\n",
    "results = model.evaluate(x_test, y_test)"
   ]
  },
  {
   "cell_type": "code",
   "execution_count": 63,
   "metadata": {},
   "outputs": [
    {
     "data": {
      "text/plain": [
       "[1.3679280281066895, 0.856440007686615]"
      ]
     },
     "execution_count": 63,
     "metadata": {},
     "output_type": "execute_result"
    }
   ],
   "source": [
    "results"
   ]
  },
  {
   "cell_type": "code",
   "execution_count": 65,
   "metadata": {},
   "outputs": [
    {
     "name": "stdout",
     "output_type": "stream",
     "text": [
      "Epoch 1/25\n",
      "49/49 [==============================] - 1s 13ms/step - loss: 0.5125 - accuracy: 0.7425\n",
      "Epoch 2/25\n",
      "49/49 [==============================] - 1s 13ms/step - loss: 0.2184 - accuracy: 0.9152\n",
      "Epoch 3/25\n",
      "49/49 [==============================] - 1s 16ms/step - loss: 0.1779 - accuracy: 0.9324\n",
      "Epoch 4/25\n",
      "49/49 [==============================] - 1s 17ms/step - loss: 0.1371 - accuracy: 0.9487\n",
      "Epoch 5/25\n",
      "49/49 [==============================] - 1s 18ms/step - loss: 0.1250 - accuracy: 0.9543\n",
      "Epoch 6/25\n",
      "49/49 [==============================] - 1s 16ms/step - loss: 0.1136 - accuracy: 0.9598\n",
      "Epoch 7/25\n",
      "49/49 [==============================] - 1s 15ms/step - loss: 0.0949 - accuracy: 0.9645\n",
      "Epoch 8/25\n",
      "49/49 [==============================] - 1s 20ms/step - loss: 0.0832 - accuracy: 0.9719\n",
      "Epoch 9/25\n",
      "49/49 [==============================] - 1s 21ms/step - loss: 0.0658 - accuracy: 0.9782\n",
      "Epoch 10/25\n",
      "49/49 [==============================] - 1s 19ms/step - loss: 0.0647 - accuracy: 0.9787\n",
      "Epoch 11/25\n",
      "49/49 [==============================] - 1s 19ms/step - loss: 0.0652 - accuracy: 0.9749\n",
      "Epoch 12/25\n",
      "49/49 [==============================] - 1s 16ms/step - loss: 0.0527 - accuracy: 0.9816\n",
      "Epoch 13/25\n",
      "49/49 [==============================] - 1s 14ms/step - loss: 0.0426 - accuracy: 0.9855\n",
      "Epoch 14/25\n",
      "49/49 [==============================] - 1s 14ms/step - loss: 0.0336 - accuracy: 0.9891\n",
      "Epoch 15/25\n",
      "49/49 [==============================] - 1s 14ms/step - loss: 0.0282 - accuracy: 0.9915\n",
      "Epoch 16/25\n",
      "49/49 [==============================] - 1s 14ms/step - loss: 0.0332 - accuracy: 0.9897\n",
      "Epoch 17/25\n",
      "49/49 [==============================] - 1s 16ms/step - loss: 0.0185 - accuracy: 0.9952\n",
      "Epoch 18/25\n",
      "49/49 [==============================] - 1s 15ms/step - loss: 0.0201 - accuracy: 0.9943\n",
      "Epoch 19/25\n",
      "49/49 [==============================] - 1s 15ms/step - loss: 0.0340 - accuracy: 0.9898\n",
      "Epoch 20/25\n",
      "49/49 [==============================] - 1s 15ms/step - loss: 0.0117 - accuracy: 0.9974\n",
      "Epoch 21/25\n",
      "49/49 [==============================] - 1s 14ms/step - loss: 0.0112 - accuracy: 0.9975\n",
      "Epoch 22/25\n",
      "49/49 [==============================] - 1s 14ms/step - loss: 0.0138 - accuracy: 0.9970\n",
      "Epoch 23/25\n",
      "49/49 [==============================] - 1s 14ms/step - loss: 0.0068 - accuracy: 0.9987\n",
      "Epoch 24/25\n",
      "49/49 [==============================] - 1s 14ms/step - loss: 0.0055 - accuracy: 0.9990\n",
      "Epoch 25/25\n",
      "49/49 [==============================] - 1s 14ms/step - loss: 0.0018 - accuracy: 0.9999\n",
      "782/782 [==============================] - 1s 1ms/step - loss: 1.2433 - accuracy: 0.8421\n"
     ]
    }
   ],
   "source": [
    "\n",
    "#Experiment with tanh\n",
    "model = models.Sequential()\n",
    "model.add(layers.Dense(64, activation='tanh', input_shape=(10000,)))\n",
    "model.add(layers.Dense(64, activation='tanh'))\n",
    "model.add(layers.Dense(1, activation='sigmoid'))\n",
    "\n",
    "model.compile(optimizer='rmsprop',\n",
    "              loss='binary_crossentropy',\n",
    "              metrics=['accuracy'])\n",
    "\n",
    "model.fit(x_train, y_train, epochs=25, batch_size=512)\n",
    "results = model.evaluate(x_test, y_test)"
   ]
  },
  {
   "cell_type": "code",
   "execution_count": null,
   "metadata": {},
   "outputs": [],
   "source": []
  }
 ],
 "metadata": {
  "kernelspec": {
   "display_name": "Python 3",
   "language": "python",
   "name": "python3"
  },
  "language_info": {
   "codemirror_mode": {
    "name": "ipython",
    "version": 3
   },
   "file_extension": ".py",
   "mimetype": "text/x-python",
   "name": "python",
   "nbconvert_exporter": "python",
   "pygments_lexer": "ipython3",
   "version": "3.8.5"
  }
 },
 "nbformat": 4,
 "nbformat_minor": 2
}
